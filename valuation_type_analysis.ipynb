{
 "cells": [
  {
   "cell_type": "markdown",
   "metadata": {},
   "source": [
    "# Case Study \n",
    "\n",
    "As part of the Google Data Analytics Professional Certificate, I decided to forge my own path and create a case study of my own. \n",
    "\n",
    "## Scenario\n",
    "\n",
    "A Financial Technology (FinTech) company has been services mortgages and wants to streamline part of the process and ensure accuracy. By creating appraisal tools that automate the appraisal and valuation process meets a market demand for faster and more accurate appraisals. At the beginning of the process, the FinTech company wants to see data on the single family loan market. As a company, they already provide a suite of product solutions for the mortgage and housing industry. As they look to build virtual appraisal platform in hopes to streamline the appraisal process for refinances and housing market they decide the following questions will guide the process. \n",
    "\n",
    "1. How do the past 12-18 months of lending reflect the longer 3-5 trends in lending? \n",
    "2. What trends and market forces have shaped the single family loan market?\n",
    "\n",
    "The labor supply of appraisers is known to decline, and another team of analysts has already been tasked with market analysis and viability for the product. \n",
    "\n",
    "\n",
    "## Data Preparation\n",
    "\n",
    "Data was accessed from Freddie Mac, and includes monthly and quarterly data. We will create a dataframe that includes all the data from 2002 to Q2 of 2020 laid out on a monthly basis. \n",
    "\n",
    "We will: \n",
    "\n",
    "1. Import the data\n",
    "2. Filter any data we do not need\n",
    "3. Remove null/NA values\n",
    "4. Reformat data types \n",
    "5. Create dataframe copies for feature engineering\n",
    "6. Export the dataframe to new CSV file"
   ]
  },
  {
   "cell_type": "code",
   "execution_count": 1,
   "metadata": {},
   "outputs": [],
   "source": [
    "%matplotlib inline\n",
    "import pandas as pd\n",
    "from pandas_ui import *\n",
    "import matplotlib.pyplot as plt\n",
    "import seaborn as sns \n",
    "import plotly.express as px"
   ]
  },
  {
   "cell_type": "markdown",
   "metadata": {},
   "source": [
    "# Import Data\n",
    "\n"
   ]
  },
  {
   "cell_type": "code",
   "execution_count": 2,
   "metadata": {},
   "outputs": [
    {
     "name": "stderr",
     "output_type": "stream",
     "text": [
      "/Users/Justin/anaconda3/lib/python3.7/site-packages/IPython/core/interactiveshell.py:3146: DtypeWarning: Columns (5,6,26,27,28) have mixed types.Specify dtype option on import or set low_memory=False.\n",
      "  interactivity=interactivity, compiler=compiler, result=result)\n"
     ]
    }
   ],
   "source": [
    "df_2020 = pd.read_csv('df_2020.csv', parse_dates=['date'])\n",
    "\n",
    "df_2010_decade = pd.read_csv('df_2010_dec.csv', parse_dates=['date'])"
   ]
  },
  {
   "cell_type": "code",
   "execution_count": 3,
   "metadata": {},
   "outputs": [
    {
     "data": {
      "text/html": [
       "<div>\n",
       "<style scoped>\n",
       "    .dataframe tbody tr th:only-of-type {\n",
       "        vertical-align: middle;\n",
       "    }\n",
       "\n",
       "    .dataframe tbody tr th {\n",
       "        vertical-align: top;\n",
       "    }\n",
       "\n",
       "    .dataframe thead th {\n",
       "        text-align: right;\n",
       "    }\n",
       "</style>\n",
       "<table border=\"1\" class=\"dataframe\">\n",
       "  <thead>\n",
       "    <tr style=\"text-align: right;\">\n",
       "      <th></th>\n",
       "      <th>credit_score</th>\n",
       "      <th>date</th>\n",
       "      <th>first_buyer</th>\n",
       "      <th>maturity_date</th>\n",
       "      <th>msa</th>\n",
       "      <th>mgt_ins</th>\n",
       "      <th>num_units</th>\n",
       "      <th>occ_status</th>\n",
       "      <th>cltv</th>\n",
       "      <th>dti</th>\n",
       "      <th>...</th>\n",
       "      <th>loan_term</th>\n",
       "      <th>num_borr</th>\n",
       "      <th>seller</th>\n",
       "      <th>servicer</th>\n",
       "      <th>scf</th>\n",
       "      <th>pre_harp_num</th>\n",
       "      <th>prog_indic</th>\n",
       "      <th>h_indic</th>\n",
       "      <th>valuation</th>\n",
       "      <th>interest_only</th>\n",
       "    </tr>\n",
       "  </thead>\n",
       "  <tbody>\n",
       "    <tr>\n",
       "      <th>1432336</th>\n",
       "      <td>798</td>\n",
       "      <td>202101</td>\n",
       "      <td>N</td>\n",
       "      <td>203512</td>\n",
       "      <td>38060.0</td>\n",
       "      <td>0</td>\n",
       "      <td>1</td>\n",
       "      <td>P</td>\n",
       "      <td>12</td>\n",
       "      <td>11</td>\n",
       "      <td>...</td>\n",
       "      <td>180</td>\n",
       "      <td>2</td>\n",
       "      <td>Other sellers</td>\n",
       "      <td>Other servicers</td>\n",
       "      <td>NaN</td>\n",
       "      <td>NaN</td>\n",
       "      <td>9</td>\n",
       "      <td>NaN</td>\n",
       "      <td>2</td>\n",
       "      <td>N</td>\n",
       "    </tr>\n",
       "    <tr>\n",
       "      <th>1432337</th>\n",
       "      <td>690</td>\n",
       "      <td>202008</td>\n",
       "      <td>Y</td>\n",
       "      <td>205007</td>\n",
       "      <td>35154.0</td>\n",
       "      <td>35</td>\n",
       "      <td>1</td>\n",
       "      <td>P</td>\n",
       "      <td>97</td>\n",
       "      <td>38</td>\n",
       "      <td>...</td>\n",
       "      <td>360</td>\n",
       "      <td>2</td>\n",
       "      <td>Other sellers</td>\n",
       "      <td>Other servicers</td>\n",
       "      <td>NaN</td>\n",
       "      <td>NaN</td>\n",
       "      <td>9</td>\n",
       "      <td>NaN</td>\n",
       "      <td>2</td>\n",
       "      <td>N</td>\n",
       "    </tr>\n",
       "    <tr>\n",
       "      <th>1432338</th>\n",
       "      <td>803</td>\n",
       "      <td>202101</td>\n",
       "      <td>9</td>\n",
       "      <td>205012</td>\n",
       "      <td>NaN</td>\n",
       "      <td>0</td>\n",
       "      <td>1</td>\n",
       "      <td>P</td>\n",
       "      <td>65</td>\n",
       "      <td>36</td>\n",
       "      <td>...</td>\n",
       "      <td>360</td>\n",
       "      <td>2</td>\n",
       "      <td>Other sellers</td>\n",
       "      <td>Other servicers</td>\n",
       "      <td>NaN</td>\n",
       "      <td>NaN</td>\n",
       "      <td>9</td>\n",
       "      <td>NaN</td>\n",
       "      <td>2</td>\n",
       "      <td>N</td>\n",
       "    </tr>\n",
       "    <tr>\n",
       "      <th>1432339</th>\n",
       "      <td>742</td>\n",
       "      <td>202102</td>\n",
       "      <td>9</td>\n",
       "      <td>205007</td>\n",
       "      <td>NaN</td>\n",
       "      <td>0</td>\n",
       "      <td>1</td>\n",
       "      <td>P</td>\n",
       "      <td>80</td>\n",
       "      <td>17</td>\n",
       "      <td>...</td>\n",
       "      <td>354</td>\n",
       "      <td>2</td>\n",
       "      <td>Other sellers</td>\n",
       "      <td>Other servicers</td>\n",
       "      <td>NaN</td>\n",
       "      <td>NaN</td>\n",
       "      <td>9</td>\n",
       "      <td>NaN</td>\n",
       "      <td>2</td>\n",
       "      <td>N</td>\n",
       "    </tr>\n",
       "    <tr>\n",
       "      <th>1432340</th>\n",
       "      <td>800</td>\n",
       "      <td>202007</td>\n",
       "      <td>9</td>\n",
       "      <td>203506</td>\n",
       "      <td>35614.0</td>\n",
       "      <td>0</td>\n",
       "      <td>1</td>\n",
       "      <td>P</td>\n",
       "      <td>69</td>\n",
       "      <td>28</td>\n",
       "      <td>...</td>\n",
       "      <td>180</td>\n",
       "      <td>1</td>\n",
       "      <td>QUICKEN LOANS, LLC</td>\n",
       "      <td>QUICKEN LOANS, LLC</td>\n",
       "      <td>NaN</td>\n",
       "      <td>NaN</td>\n",
       "      <td>9</td>\n",
       "      <td>NaN</td>\n",
       "      <td>1</td>\n",
       "      <td>N</td>\n",
       "    </tr>\n",
       "  </tbody>\n",
       "</table>\n",
       "<p>5 rows × 31 columns</p>\n",
       "</div>"
      ],
      "text/plain": [
       "         credit_score    date first_buyer  maturity_date      msa  mgt_ins  \\\n",
       "1432336           798  202101           N         203512  38060.0        0   \n",
       "1432337           690  202008           Y         205007  35154.0       35   \n",
       "1432338           803  202101           9         205012      NaN        0   \n",
       "1432339           742  202102           9         205007      NaN        0   \n",
       "1432340           800  202007           9         203506  35614.0        0   \n",
       "\n",
       "         num_units occ_status  cltv  dti  ...  loan_term  num_borr  \\\n",
       "1432336          1          P    12   11  ...        180         2   \n",
       "1432337          1          P    97   38  ...        360         2   \n",
       "1432338          1          P    65   36  ...        360         2   \n",
       "1432339          1          P    80   17  ...        354         2   \n",
       "1432340          1          P    69   28  ...        180         1   \n",
       "\n",
       "                     seller            servicer  scf pre_harp_num prog_indic  \\\n",
       "1432336       Other sellers     Other servicers  NaN          NaN          9   \n",
       "1432337       Other sellers     Other servicers  NaN          NaN          9   \n",
       "1432338       Other sellers     Other servicers  NaN          NaN          9   \n",
       "1432339       Other sellers     Other servicers  NaN          NaN          9   \n",
       "1432340  QUICKEN LOANS, LLC  QUICKEN LOANS, LLC  NaN          NaN          9   \n",
       "\n",
       "        h_indic  valuation interest_only  \n",
       "1432336     NaN          2             N  \n",
       "1432337     NaN          2             N  \n",
       "1432338     NaN          2             N  \n",
       "1432339     NaN          2             N  \n",
       "1432340     NaN          1             N  \n",
       "\n",
       "[5 rows x 31 columns]"
      ]
     },
     "execution_count": 3,
     "metadata": {},
     "output_type": "execute_result"
    }
   ],
   "source": [
    "df_2020.tail()"
   ]
  },
  {
   "cell_type": "code",
   "execution_count": 12,
   "metadata": {},
   "outputs": [
    {
     "data": {
      "text/html": [
       "<div>\n",
       "<style scoped>\n",
       "    .dataframe tbody tr th:only-of-type {\n",
       "        vertical-align: middle;\n",
       "    }\n",
       "\n",
       "    .dataframe tbody tr th {\n",
       "        vertical-align: top;\n",
       "    }\n",
       "\n",
       "    .dataframe thead th {\n",
       "        text-align: right;\n",
       "    }\n",
       "</style>\n",
       "<table border=\"1\" class=\"dataframe\">\n",
       "  <thead>\n",
       "    <tr style=\"text-align: right;\">\n",
       "      <th></th>\n",
       "      <th>credit_score</th>\n",
       "      <th>date</th>\n",
       "      <th>first_buyer</th>\n",
       "      <th>maturity_date</th>\n",
       "      <th>msa</th>\n",
       "      <th>mgt_ins</th>\n",
       "      <th>num_units</th>\n",
       "      <th>occ_status</th>\n",
       "      <th>cltv</th>\n",
       "      <th>dti</th>\n",
       "      <th>...</th>\n",
       "      <th>loan_term</th>\n",
       "      <th>num_borr</th>\n",
       "      <th>seller</th>\n",
       "      <th>servicer</th>\n",
       "      <th>scf</th>\n",
       "      <th>pre_harp_num</th>\n",
       "      <th>prog_indic</th>\n",
       "      <th>h_indic</th>\n",
       "      <th>valuation</th>\n",
       "      <th>interest_only</th>\n",
       "    </tr>\n",
       "  </thead>\n",
       "  <tbody>\n",
       "    <tr>\n",
       "      <th>15343350</th>\n",
       "      <td>776</td>\n",
       "      <td>201102</td>\n",
       "      <td>9</td>\n",
       "      <td>204101</td>\n",
       "      <td>NaN</td>\n",
       "      <td>0</td>\n",
       "      <td>1</td>\n",
       "      <td>P</td>\n",
       "      <td>94</td>\n",
       "      <td>42</td>\n",
       "      <td>...</td>\n",
       "      <td>360</td>\n",
       "      <td>1</td>\n",
       "      <td>Other sellers</td>\n",
       "      <td>Other servicers</td>\n",
       "      <td>NaN</td>\n",
       "      <td>NaN</td>\n",
       "      <td>9</td>\n",
       "      <td>NaN</td>\n",
       "      <td>9</td>\n",
       "      <td>N</td>\n",
       "    </tr>\n",
       "    <tr>\n",
       "      <th>15343351</th>\n",
       "      <td>811</td>\n",
       "      <td>201102</td>\n",
       "      <td>9</td>\n",
       "      <td>204101</td>\n",
       "      <td>34940.0</td>\n",
       "      <td>0</td>\n",
       "      <td>1</td>\n",
       "      <td>S</td>\n",
       "      <td>76</td>\n",
       "      <td>47</td>\n",
       "      <td>...</td>\n",
       "      <td>360</td>\n",
       "      <td>1</td>\n",
       "      <td>BRANCH BANKING &amp; TRUST COMPANY</td>\n",
       "      <td>TRUIST BANK</td>\n",
       "      <td>NaN</td>\n",
       "      <td>NaN</td>\n",
       "      <td>9</td>\n",
       "      <td>NaN</td>\n",
       "      <td>9</td>\n",
       "      <td>N</td>\n",
       "    </tr>\n",
       "    <tr>\n",
       "      <th>15343352</th>\n",
       "      <td>774</td>\n",
       "      <td>201012</td>\n",
       "      <td>N</td>\n",
       "      <td>204011</td>\n",
       "      <td>46520.0</td>\n",
       "      <td>0</td>\n",
       "      <td>1</td>\n",
       "      <td>P</td>\n",
       "      <td>73</td>\n",
       "      <td>42</td>\n",
       "      <td>...</td>\n",
       "      <td>360</td>\n",
       "      <td>1</td>\n",
       "      <td>Other sellers</td>\n",
       "      <td>Other servicers</td>\n",
       "      <td>NaN</td>\n",
       "      <td>NaN</td>\n",
       "      <td>9</td>\n",
       "      <td>NaN</td>\n",
       "      <td>9</td>\n",
       "      <td>N</td>\n",
       "    </tr>\n",
       "    <tr>\n",
       "      <th>15343353</th>\n",
       "      <td>765</td>\n",
       "      <td>201102</td>\n",
       "      <td>Y</td>\n",
       "      <td>204101</td>\n",
       "      <td>46520.0</td>\n",
       "      <td>0</td>\n",
       "      <td>1</td>\n",
       "      <td>P</td>\n",
       "      <td>80</td>\n",
       "      <td>32</td>\n",
       "      <td>...</td>\n",
       "      <td>360</td>\n",
       "      <td>1</td>\n",
       "      <td>Other sellers</td>\n",
       "      <td>Other servicers</td>\n",
       "      <td>NaN</td>\n",
       "      <td>NaN</td>\n",
       "      <td>9</td>\n",
       "      <td>NaN</td>\n",
       "      <td>9</td>\n",
       "      <td>N</td>\n",
       "    </tr>\n",
       "    <tr>\n",
       "      <th>15343354</th>\n",
       "      <td>716</td>\n",
       "      <td>201209</td>\n",
       "      <td>N</td>\n",
       "      <td>204011</td>\n",
       "      <td>39300.0</td>\n",
       "      <td>0</td>\n",
       "      <td>1</td>\n",
       "      <td>P</td>\n",
       "      <td>77</td>\n",
       "      <td>39</td>\n",
       "      <td>...</td>\n",
       "      <td>339</td>\n",
       "      <td>1</td>\n",
       "      <td>Other sellers</td>\n",
       "      <td>Other servicers</td>\n",
       "      <td>NaN</td>\n",
       "      <td>NaN</td>\n",
       "      <td>9</td>\n",
       "      <td>NaN</td>\n",
       "      <td>9</td>\n",
       "      <td>N</td>\n",
       "    </tr>\n",
       "  </tbody>\n",
       "</table>\n",
       "<p>5 rows × 31 columns</p>\n",
       "</div>"
      ],
      "text/plain": [
       "          credit_score    date first_buyer  maturity_date      msa mgt_ins  \\\n",
       "15343350           776  201102           9         204101      NaN       0   \n",
       "15343351           811  201102           9         204101  34940.0       0   \n",
       "15343352           774  201012           N         204011  46520.0       0   \n",
       "15343353           765  201102           Y         204101  46520.0       0   \n",
       "15343354           716  201209           N         204011  39300.0       0   \n",
       "\n",
       "         num_units occ_status  cltv  dti  ...  loan_term  num_borr  \\\n",
       "15343350         1          P    94   42  ...        360         1   \n",
       "15343351         1          S    76   47  ...        360         1   \n",
       "15343352         1          P    73   42  ...        360         1   \n",
       "15343353         1          P    80   32  ...        360         1   \n",
       "15343354         1          P    77   39  ...        339         1   \n",
       "\n",
       "                                  seller         servicer  scf pre_harp_num  \\\n",
       "15343350                   Other sellers  Other servicers  NaN          NaN   \n",
       "15343351  BRANCH BANKING & TRUST COMPANY      TRUIST BANK  NaN          NaN   \n",
       "15343352                   Other sellers  Other servicers  NaN          NaN   \n",
       "15343353                   Other sellers  Other servicers  NaN          NaN   \n",
       "15343354                   Other sellers  Other servicers  NaN          NaN   \n",
       "\n",
       "         prog_indic h_indic  valuation interest_only  \n",
       "15343350          9     NaN          9             N  \n",
       "15343351          9     NaN          9             N  \n",
       "15343352          9     NaN          9             N  \n",
       "15343353          9     NaN          9             N  \n",
       "15343354          9     NaN          9             N  \n",
       "\n",
       "[5 rows x 31 columns]"
      ]
     },
     "execution_count": 12,
     "metadata": {},
     "output_type": "execute_result"
    }
   ],
   "source": [
    "df_2010_decade.tail()"
   ]
  },
  {
   "cell_type": "markdown",
   "metadata": {},
   "source": [
    "# Filtering Data\n",
    "\n",
    "Quite a bit of this data is irrelevant to the question at hand. While this could be filtered at a database level, the data was accessed without the option to filter. We will be dropping quite a few columns here. \n",
    "\n",
    "Also, once we convert the date column to a datetime format we shouldn't need the separate df for 2020 stats. The plan was to also use data from 2000-2009; that part of the data may be added at a later date. "
   ]
  },
  {
   "cell_type": "code",
   "execution_count": 31,
   "metadata": {},
   "outputs": [],
   "source": [
    "df_loan = df_2020.append([df_2010_decade])\n",
    "\n",
    "df_loan = df_loan.drop(columns=['maturity_date', 'msa', 'num_units', 'occ_status', 'amor_type', \n",
    "                                'channel', 'num_borr', 'seller', 'servicer', 'scf', 'pre_harp_num', \n",
    "                                'prog_indic', 'h_indic', 'interest_only'])\n"
   ]
  },
  {
   "cell_type": "markdown",
   "metadata": {},
   "source": [
    "## Convert to Datetime\n",
    "\n",
    "\n",
    "In order for the visualizations below to work, we will need to convert the 'first_payment_date' column to a datetime format. "
   ]
  },
  {
   "cell_type": "code",
   "execution_count": 32,
   "metadata": {},
   "outputs": [],
   "source": [
    "df_loan['date'] = pd.to_datetime(df_loan['date'], format='%Y%m')"
   ]
  },
  {
   "cell_type": "code",
   "execution_count": 33,
   "metadata": {
    "scrolled": true
   },
   "outputs": [
    {
     "data": {
      "text/plain": [
       "0          2020-03-01\n",
       "1          2020-04-01\n",
       "2          2020-03-01\n",
       "3          2020-04-01\n",
       "4          2020-04-01\n",
       "              ...    \n",
       "15343350   2011-02-01\n",
       "15343351   2011-02-01\n",
       "15343352   2010-12-01\n",
       "15343353   2011-02-01\n",
       "15343354   2012-09-01\n",
       "Name: date, Length: 16775696, dtype: datetime64[ns]"
      ]
     },
     "execution_count": 33,
     "metadata": {},
     "output_type": "execute_result"
    }
   ],
   "source": [
    "df_loan['date']"
   ]
  },
  {
   "cell_type": "code",
   "execution_count": 41,
   "metadata": {},
   "outputs": [],
   "source": [
    "df_loan = df_loan.set_index('date')"
   ]
  },
  {
   "cell_type": "markdown",
   "metadata": {},
   "source": [
    "Let's check the start and end date to make sure we have the correct format and data. It looks like there is an error somewhere since our date range should be 2010-01-01. We'll see if we can clean this up."
   ]
  },
  {
   "cell_type": "code",
   "execution_count": 34,
   "metadata": {},
   "outputs": [
    {
     "data": {
      "text/html": [
       "<div>\n",
       "<style scoped>\n",
       "    .dataframe tbody tr th:only-of-type {\n",
       "        vertical-align: middle;\n",
       "    }\n",
       "\n",
       "    .dataframe tbody tr th {\n",
       "        vertical-align: top;\n",
       "    }\n",
       "\n",
       "    .dataframe thead th {\n",
       "        text-align: right;\n",
       "    }\n",
       "</style>\n",
       "<table border=\"1\" class=\"dataframe\">\n",
       "  <thead>\n",
       "    <tr style=\"text-align: right;\">\n",
       "      <th></th>\n",
       "      <th>credit_score</th>\n",
       "      <th>date</th>\n",
       "      <th>first_buyer</th>\n",
       "      <th>mgt_ins</th>\n",
       "      <th>cltv</th>\n",
       "      <th>dti</th>\n",
       "      <th>upb</th>\n",
       "      <th>ltv</th>\n",
       "      <th>int_rate</th>\n",
       "      <th>ppm</th>\n",
       "      <th>state</th>\n",
       "      <th>prop_type</th>\n",
       "      <th>zipcode</th>\n",
       "      <th>seq_num</th>\n",
       "      <th>loan_purpose</th>\n",
       "      <th>loan_term</th>\n",
       "      <th>valuation</th>\n",
       "    </tr>\n",
       "  </thead>\n",
       "  <tbody>\n",
       "    <tr>\n",
       "      <th>0</th>\n",
       "      <td>681</td>\n",
       "      <td>2020-03-01</td>\n",
       "      <td>N</td>\n",
       "      <td>30</td>\n",
       "      <td>95</td>\n",
       "      <td>13</td>\n",
       "      <td>52000</td>\n",
       "      <td>95</td>\n",
       "      <td>5.750</td>\n",
       "      <td>N</td>\n",
       "      <td>KS</td>\n",
       "      <td>SF</td>\n",
       "      <td>66400</td>\n",
       "      <td>F20Q10000002</td>\n",
       "      <td>P</td>\n",
       "      <td>360</td>\n",
       "      <td>2</td>\n",
       "    </tr>\n",
       "    <tr>\n",
       "      <th>1</th>\n",
       "      <td>775</td>\n",
       "      <td>2020-04-01</td>\n",
       "      <td>N</td>\n",
       "      <td>25</td>\n",
       "      <td>87</td>\n",
       "      <td>29</td>\n",
       "      <td>248000</td>\n",
       "      <td>87</td>\n",
       "      <td>3.250</td>\n",
       "      <td>N</td>\n",
       "      <td>CO</td>\n",
       "      <td>SF</td>\n",
       "      <td>81200</td>\n",
       "      <td>F20Q10000003</td>\n",
       "      <td>P</td>\n",
       "      <td>360</td>\n",
       "      <td>2</td>\n",
       "    </tr>\n",
       "    <tr>\n",
       "      <th>2</th>\n",
       "      <td>770</td>\n",
       "      <td>2020-03-01</td>\n",
       "      <td>9</td>\n",
       "      <td>0</td>\n",
       "      <td>65</td>\n",
       "      <td>14</td>\n",
       "      <td>125000</td>\n",
       "      <td>65</td>\n",
       "      <td>3.625</td>\n",
       "      <td>N</td>\n",
       "      <td>MO</td>\n",
       "      <td>SF</td>\n",
       "      <td>63300</td>\n",
       "      <td>F20Q10000004</td>\n",
       "      <td>N</td>\n",
       "      <td>180</td>\n",
       "      <td>2</td>\n",
       "    </tr>\n",
       "    <tr>\n",
       "      <th>3</th>\n",
       "      <td>791</td>\n",
       "      <td>2020-04-01</td>\n",
       "      <td>N</td>\n",
       "      <td>0</td>\n",
       "      <td>80</td>\n",
       "      <td>33</td>\n",
       "      <td>58000</td>\n",
       "      <td>80</td>\n",
       "      <td>3.875</td>\n",
       "      <td>N</td>\n",
       "      <td>NY</td>\n",
       "      <td>SF</td>\n",
       "      <td>12100</td>\n",
       "      <td>F20Q10000005</td>\n",
       "      <td>P</td>\n",
       "      <td>360</td>\n",
       "      <td>2</td>\n",
       "    </tr>\n",
       "    <tr>\n",
       "      <th>4</th>\n",
       "      <td>697</td>\n",
       "      <td>2020-04-01</td>\n",
       "      <td>9</td>\n",
       "      <td>0</td>\n",
       "      <td>68</td>\n",
       "      <td>35</td>\n",
       "      <td>263000</td>\n",
       "      <td>68</td>\n",
       "      <td>3.750</td>\n",
       "      <td>N</td>\n",
       "      <td>CT</td>\n",
       "      <td>SF</td>\n",
       "      <td>6800</td>\n",
       "      <td>F20Q10000006</td>\n",
       "      <td>N</td>\n",
       "      <td>360</td>\n",
       "      <td>2</td>\n",
       "    </tr>\n",
       "  </tbody>\n",
       "</table>\n",
       "</div>"
      ],
      "text/plain": [
       "   credit_score       date first_buyer mgt_ins  cltv  dti     upb  ltv  \\\n",
       "0           681 2020-03-01           N      30    95   13   52000   95   \n",
       "1           775 2020-04-01           N      25    87   29  248000   87   \n",
       "2           770 2020-03-01           9       0    65   14  125000   65   \n",
       "3           791 2020-04-01           N       0    80   33   58000   80   \n",
       "4           697 2020-04-01           9       0    68   35  263000   68   \n",
       "\n",
       "   int_rate ppm state prop_type  zipcode       seq_num loan_purpose  \\\n",
       "0     5.750   N    KS        SF    66400  F20Q10000002            P   \n",
       "1     3.250   N    CO        SF    81200  F20Q10000003            P   \n",
       "2     3.625   N    MO        SF    63300  F20Q10000004            N   \n",
       "3     3.875   N    NY        SF    12100  F20Q10000005            P   \n",
       "4     3.750   N    CT        SF     6800  F20Q10000006            N   \n",
       "\n",
       "   loan_term  valuation  \n",
       "0        360          2  \n",
       "1        360          2  \n",
       "2        180          2  \n",
       "3        360          2  \n",
       "4        360          2  "
      ]
     },
     "execution_count": 34,
     "metadata": {},
     "output_type": "execute_result"
    }
   ],
   "source": [
    "df_loan.head()"
   ]
  },
  {
   "cell_type": "markdown",
   "metadata": {},
   "source": [
    "## Drop NA Values, Convert Types, ETC.\n",
    "\n",
    "We can see that most of the 'NA' values or missing data has been removed by simply dropping columns we do not need. However, we should make sure it is clean with 'dropna.'"
   ]
  },
  {
   "cell_type": "code",
   "execution_count": 17,
   "metadata": {},
   "outputs": [],
   "source": [
    "df_loan = df_loan.dropna()"
   ]
  },
  {
   "cell_type": "code",
   "execution_count": 18,
   "metadata": {
    "scrolled": true
   },
   "outputs": [
    {
     "data": {
      "text/plain": [
       "9999"
      ]
     },
     "execution_count": 18,
     "metadata": {},
     "output_type": "execute_result"
    }
   ],
   "source": [
    "df_loan['credit_score'].max()"
   ]
  },
  {
   "cell_type": "markdown",
   "metadata": {},
   "source": [
    "From the user guide we know that the data used various figures such as 9999 to note missing data. "
   ]
  },
  {
   "cell_type": "markdown",
   "metadata": {},
   "source": [
    "### Zipcode \n",
    "\n",
    "To make use of the goegraphic data, we will need to convert zipcode to a string. In addition, some zipcodes on the East side of the U.S. have one or two zeros at the beginning. To make sure this is consistent we will use zfills to ensure the data is accurate."
   ]
  },
  {
   "cell_type": "code",
   "execution_count": 35,
   "metadata": {},
   "outputs": [
    {
     "data": {
      "text/plain": [
       "0    66400\n",
       "1    81200\n",
       "2    63300\n",
       "3    12100\n",
       "4    06800\n",
       "Name: zipcode, dtype: object"
      ]
     },
     "execution_count": 35,
     "metadata": {},
     "output_type": "execute_result"
    }
   ],
   "source": [
    "# Convert zipcode to string\n",
    "\n",
    "df_loan['zipcode'] = df_loan['zipcode'].astype(str).str.zfill(5)\n",
    "\n",
    "\n",
    "df_loan['zipcode'].head()"
   ]
  },
  {
   "cell_type": "markdown",
   "metadata": {},
   "source": [
    "# Analysis\n",
    "\n",
    "Now that the data is clean, we can move to putting it to work. The valuation method column was a surprise in the data, not merely the amount of useful data for this project but also that the dataset included valuation method at all. Between that column and the loan purpose column we should be able to provide a clear trend for stakeholders."
   ]
  },
  {
   "cell_type": "code",
   "execution_count": 36,
   "metadata": {},
   "outputs": [],
   "source": [
    "s = df_loan.valuation"
   ]
  },
  {
   "cell_type": "code",
   "execution_count": 37,
   "metadata": {},
   "outputs": [
    {
     "data": {
      "text/plain": [
       "9    11029885\n",
       "2     4878171\n",
       "1      745950\n",
       "3      121690\n",
       "Name: valuation, dtype: int64"
      ]
     },
     "execution_count": 37,
     "metadata": {},
     "output_type": "execute_result"
    }
   ],
   "source": [
    "counts = s.value_counts()\n",
    "counts"
   ]
  },
  {
   "cell_type": "code",
   "execution_count": 38,
   "metadata": {
    "scrolled": true
   },
   "outputs": [
    {
     "data": {
      "text/plain": [
       "9    65.7%\n",
       "2    29.1%\n",
       "1     4.4%\n",
       "3     0.7%\n",
       "Name: valuation, dtype: object"
      ]
     },
     "execution_count": 38,
     "metadata": {},
     "output_type": "execute_result"
    }
   ],
   "source": [
    "percentage = s.value_counts(normalize=True).mul(100).round(1).astype(str)+'%'\n",
    "percentage"
   ]
  },
  {
   "cell_type": "code",
   "execution_count": 24,
   "metadata": {
    "scrolled": true
   },
   "outputs": [
    {
     "data": {
      "image/png": "[encoded data removed]",
      "text/plain": [
       "<Figure size 432x288 with 1 Axes>"
      ]
     },
     "metadata": {},
     "output_type": "display_data"
    }
   ],
   "source": [
    "# Plot a bar graph of valuation methods\n",
    "sns.set_style('darkgrid')\n",
    "sns.countplot(x='valuation', data=df_loan,).set_title(\"Totals of Valuation Method\");\n"
   ]
  },
  {
   "cell_type": "markdown",
   "metadata": {},
   "source": [
    "We can see that 9, which equals no data, is the highest count. There may be a point in time when Freddie Mac did not gather data on valuation methods. "
   ]
  },
  {
   "cell_type": "code",
   "execution_count": null,
   "metadata": {},
   "outputs": [],
   "source": []
  },
  {
   "cell_type": "code",
   "execution_count": null,
   "metadata": {},
   "outputs": [],
   "source": []
  }
 ],
 "metadata": {
  "kernelspec": {
   "display_name": "Python 3",
   "language": "python",
   "name": "python3"
  },
  "language_info": {
   "codemirror_mode": {
    "name": "ipython",
    "version": 3
   },
   "file_extension": ".py",
   "mimetype": "text/x-python",
   "name": "python",
   "nbconvert_exporter": "python",
   "pygments_lexer": "ipython3",
   "version": "3.7.1"
  },
  "toc": {
   "base_numbering": 1,
   "nav_menu": {},
   "number_sections": true,
   "sideBar": true,
   "skip_h1_title": false,
   "title_cell": "Table of Contents",
   "title_sidebar": "Contents",
   "toc_cell": false,
   "toc_position": {},
   "toc_section_display": true,
   "toc_window_display": false
  }
 },
 "nbformat": 4,
 "nbformat_minor": 4
}
